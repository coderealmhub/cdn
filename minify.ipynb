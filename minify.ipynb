{
 "cells": [
  {
   "cell_type": "markdown",
   "metadata": {},
   "source": [
    "# Minify Img"
   ]
  },
  {
   "cell_type": "code",
   "execution_count": 1,
   "metadata": {},
   "outputs": [
    {
     "name": "stdout",
     "output_type": "stream",
     "text": [
      "Requirement already satisfied: Pillow in /usr/lib/python3/dist-packages (7.0.0)\n"
     ]
    }
   ],
   "source": [
    "!pip install Pillow"
   ]
  },
  {
   "cell_type": "code",
   "execution_count": 1,
   "metadata": {},
   "outputs": [],
   "source": [
    "import os\n",
    "\n",
    "from pathlib import Path\n",
    "from PIL import Image"
   ]
  },
  {
   "cell_type": "code",
   "execution_count": 2,
   "metadata": {},
   "outputs": [],
   "source": [
    "def convert_to_webp(source):\n",
    "    \"\"\"Convert image to WebP.\n",
    "\n",
    "    Args:\n",
    "        source (pathlib.Path): Path to source image\n",
    "\n",
    "    Returns:\n",
    "        pathlib.Path: path to new image\n",
    "    \"\"\"\n",
    "    \n",
    "    destination = source.with_suffix(\".webp\")\n",
    "\n",
    "    image = Image.open(source)  # Open image\n",
    "    image.save(destination, format=\"webp\")  # Convert image to webp\n",
    "\n",
    "    return destination"
   ]
  },
  {
   "cell_type": "code",
   "execution_count": 3,
   "metadata": {},
   "outputs": [],
   "source": [
    "directories = [\"themes\"]\n",
    "exts = [\".png\", \".jpeg\", \".jpg\"]\n",
    "\n",
    "for directory in directories:\n",
    "    for ext in exts:\n",
    "        paths = Path(\"/opt/lampp/htdocs/cdn.realm.com.br/\" + directory + \"/\").glob(\"**/*\" + ext)\n",
    "\n",
    "        for path in paths:\n",
    "            webp_path = convert_to_webp(path)\n"
   ]
  }
 ],
 "metadata": {
  "kernelspec": {
   "display_name": "Python 3.8.10 64-bit",
   "language": "python",
   "name": "python3"
  },
  "language_info": {
   "codemirror_mode": {
    "name": "ipython",
    "version": 3
   },
   "file_extension": ".py",
   "mimetype": "text/x-python",
   "name": "python",
   "nbconvert_exporter": "python",
   "pygments_lexer": "ipython3",
   "version": "3.10.4"
  },
  "orig_nbformat": 4,
  "vscode": {
   "interpreter": {
    "hash": "31f2aee4e71d21fbe5cf8b01ff0e069b9275f58929596ceb00d14d90e3e16cd6"
   }
  }
 },
 "nbformat": 4,
 "nbformat_minor": 2
}
